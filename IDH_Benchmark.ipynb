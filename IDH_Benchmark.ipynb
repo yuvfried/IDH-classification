{
 "cells": [
  {
   "cell_type": "code",
   "execution_count": 1,
   "id": "285a205f-78a4-41f7-bbd3-320b15cc1190",
   "metadata": {},
   "outputs": [],
   "source": [
    "import pandas as pd\n",
    "import os"
   ]
  },
  {
   "cell_type": "code",
   "execution_count": null,
   "id": "4230f8b6-9343-436f-a83c-5a2cf9eb96e7",
   "metadata": {
    "pycharm": {
     "is_executing": true
    }
   },
   "outputs": [],
   "source": [
    "# You can use Kaggle to install Trident and utilize Kaggle's GPU to extract features from TCGA\n",
    "# Refer to this notebook: https://www.kaggle.com/code/yuvalfriedmann/submission\n",
    "# You can directly download the TCGA dataset for this benchmark from:\n",
    "# https://www.kaggle.com/datasets/yuvalfriedmann/tcga-glioma-molecular-classification\n",
    "root_benchmark_files = '.../path/to/trident_processed'"
   ]
  },
  {
   "cell_type": "markdown",
   "id": "44afd35d-b2a7-40d3-a6ab-31fee0d66d88",
   "metadata": {},
   "source": [
    "# Prepare DataFrames (From Trident Preprocessing)"
   ]
  },
  {
   "cell_type": "code",
   "execution_count": 3,
   "id": "5652873f-568c-430f-ae2c-1295e9d5d801",
   "metadata": {},
   "outputs": [],
   "source": [
    "# Train embedding paths\n",
    "path_dict = {p.name.split(\".\")[0] :p.path for p in os.scandir(os.path.join(\n",
    "    root_benchmark_files, '20x_256px_0px_overlap/features_uni_v1'))}\n",
    "\n",
    "# Test embedding paths\n",
    "path_dict.update(\n",
    "    {p.name.split(\".\")[0] :p.path for p in os.scandir(os.path.join(\n",
    "    root_benchmark_files, '20x_256px_0px_overlap/features_uni_v1'))}\n",
    ")\n",
    "\n",
    "# Gather all paths\n",
    "df_paths = pd.Series(path_dict, name='path')\n",
    "df_paths.index.name = 'id'\n",
    "df_paths = df_paths.to_frame().reset_index()"
   ]
  },
  {
   "cell_type": "code",
   "execution_count": 4,
   "id": "1bd8d31a-96f8-4168-8464-2eeb0ffa4484",
   "metadata": {},
   "outputs": [],
   "source": [
    "# Read Train data\n",
    "df_train = pd.read_csv(os.path.join(root_benchmark_files, \"train.csv\"))\n",
    "df_train['target'] = df_train['mIDH'].astype(int)\n",
    "df_train['id'] = df_train['slide_id']\n",
    "df_train = df_train[['id', 'case_id', 'target']]\n",
    "# Retrieve embedding path per ID\n",
    "df_train = df_train.merge(df_paths, on='id', how='left')\n",
    "\n",
    "# Read Test data\n",
    "df_test = pd.read_csv(os.path.join(root_benchmark_files, \"test.csv\"))\n",
    "df_test['target'] = df_test['mIDH'].astype(int)\n",
    "df_test['id'] = df_test['slide_id']\n",
    "df_test = df_test[['id', 'case_id', 'target']]\n",
    "\n",
    "# Retrieve embedding path per ID\n",
    "df_test = df_test.merge(df_paths, on='id', how='left')"
   ]
  },
  {
   "cell_type": "code",
   "execution_count": 5,
   "id": "5b960de3-6e8f-4e6e-82de-1abfd1bff6ab",
   "metadata": {},
   "outputs": [],
   "source": [
    "df_train.to_csv(\"./train_tcga_IDH.csv\", index=False)\n",
    "df_test.to_csv(\"./test_tcga_IDH.csv\", index=False)"
   ]
  },
  {
   "cell_type": "markdown",
   "id": "7be9623e-edb8-493e-8588-d882f62a01e1",
   "metadata": {},
   "source": [
    "# Run KFold Training"
   ]
  },
  {
   "cell_type": "code",
   "execution_count": 6,
   "id": "8c2cf4f8-ee53-418a-93e1-6aa7ffb599bd",
   "metadata": {},
   "outputs": [
    {
     "name": "stdout",
     "output_type": "stream",
     "text": [
      "\n",
      "GPU is ON\n",
      "{\n",
      "    \"csv\": \"train_tcga_IDH.csv\",\n",
      "    \"k\": 3,\n",
      "    \"track_samples\": true,\n",
      "    \"seed\": 1,\n",
      "    \"no_cuda\": false,\n",
      "    \"early_stopping\": false,\n",
      "    \"workers\": 4,\n",
      "    \"results_dir\": \"./kfold_tcga_IDH\",\n",
      "    \"cache\": true,\n",
      "    \"format\": \"h5\",\n",
      "    \"embedding_size\": 1024,\n",
      "    \"bag_size\": 4096,\n",
      "    \"case_bag\": false,\n",
      "    \"mlp_dim\": 32,\n",
      "    \"D\": 32,\n",
      "    \"dropout\": 0.3,\n",
      "    \"no_gate\": false,\n",
      "    \"w_loss\": false,\n",
      "    \"epochs\": 5,\n",
      "    \"lr\": 0.0001,\n",
      "    \"wd\": 0.001,\n",
      "    \"t\": 1,\n",
      "    \"l2\": null,\n",
      "    \"accum\": 1,\n",
      "    \"threshold\": \"ROC\"\n",
      "}\n",
      "Slide counts:\n",
      " {1: 51, 0: 49}\n",
      "Case counts:\n",
      " {0: 49, 1: 51}\n",
      "FOLD 0                                                                          \n",
      "--------------------------------\n",
      "===== Epoch 0\n",
      "train: loss=0.6678 AUC=0.6702\n",
      "valid: loss=0.5867 AUC=0.9481\n",
      "===== Epoch 1\n",
      "train: loss=0.5387 AUC=0.9198\n",
      "valid: loss=0.4780 AUC=0.9741\n",
      "===== Epoch 2\n",
      "train: loss=0.4301 AUC=0.9492\n",
      "valid: loss=0.4020 AUC=0.9778\n",
      "===== Epoch 3\n",
      "train: loss=0.3512 AUC=0.9519\n",
      "valid: loss=0.3519 AUC=0.9778\n",
      "===== Epoch 4\n",
      "train: loss=0.2999 AUC=0.9643\n",
      "valid: loss=0.3255 AUC=0.9778\n",
      "best AUC: 0.98\n",
      "Confusion Matrix: (threshold=0.40)\n",
      "\n",
      "|          |   pred_0 |   pred_1 |\n",
      "|:---------|---------:|---------:|\n",
      "| actual_0 |       14 |        1 |\n",
      "| actual_1 |        2 |       16 |\n",
      "\n",
      "FOLD 1\n",
      "--------------------------------\n",
      "===== Epoch 0\n",
      "train: loss=0.6509 AUC=0.7643\n",
      "valid: loss=0.5850 AUC=0.9228\n",
      "===== Epoch 1\n",
      "train: loss=0.5384 AUC=0.8973\n",
      "valid: loss=0.4909 AUC=0.9449\n",
      "===== Epoch 2\n",
      "train: loss=0.4378 AUC=0.9500\n",
      "valid: loss=0.4109 AUC=0.9632\n",
      "===== Epoch 3\n",
      "train: loss=0.3617 AUC=0.9607\n",
      "valid: loss=0.3493 AUC=0.9669\n",
      "===== Epoch 4\n",
      "train: loss=0.3018 AUC=0.9679\n",
      "valid: loss=0.3149 AUC=0.9743\n",
      "best AUC: 0.97\n",
      "Confusion Matrix: (threshold=0.49)\n",
      "\n",
      "|          |   pred_0 |   pred_1 |\n",
      "|:---------|---------:|---------:|\n",
      "| actual_0 |       14 |        3 |\n",
      "| actual_1 |        0 |       16 |\n",
      "\n",
      "FOLD 2\n",
      "--------------------------------\n",
      "===== Epoch 0\n",
      "train: loss=0.6392 AUC=0.7812\n",
      "valid: loss=0.6257 AUC=0.7647\n",
      "===== Epoch 1\n",
      "train: loss=0.4750 AUC=0.9614\n",
      "valid: loss=0.5581 AUC=0.8062\n",
      "===== Epoch 2\n",
      "train: loss=0.3344 AUC=0.9871\n",
      "valid: loss=0.5231 AUC=0.8339\n",
      "===== Epoch 3\n",
      "train: loss=0.2461 AUC=0.9908\n",
      "valid: loss=0.5132 AUC=0.8339\n",
      "===== Epoch 4\n",
      "train: loss=0.1832 AUC=0.9963\n",
      "valid: loss=0.5230 AUC=0.8581\n",
      "best AUC: 0.86\n",
      "Confusion Matrix: (threshold=0.55)\n",
      "\n",
      "|          |   pred_0 |   pred_1 |\n",
      "|:---------|---------:|---------:|\n",
      "| actual_0 |       13 |        4 |\n",
      "| actual_1 |        2 |       15 |\n",
      "\n",
      "mean Kfold CV scores\n",
      " {\n",
      "    \"loss\":0.3877715468,\n",
      "    \"auc\":0.9367246572,\n",
      "    \"accuracy\":0.88057041,\n",
      "    \"recall\":0.9237472767,\n",
      "    \"precision\":0.8575851393,\n",
      "    \"f1\":0.8873015873,\n",
      "    \"specificity\":0.8405228853,\n",
      "    \"balanced_accuracy\":0.8821350763\n",
      "}\n",
      "saved results to train_tcga_IDH\n",
      "Completed in 00h 01m 19s\n"
     ]
    }
   ],
   "source": [
    "! python train_kfold.py --csv train_tcga_IDH.csv --format h5 --cache --workers 4 --k 3 --track_samples --seed 1 \\\n",
    "    --results_dir ./kfold_tcga_IDH  --embedding_size 1024 --bag_size 4096 --mlp_dim 32 --D 32 --dropout 0.3 --epochs 5 \\\n",
    "    --lr 0.0001 --wd 0.001"
   ]
  },
  {
   "cell_type": "code",
   "execution_count": 10,
   "id": "0ef16eba-2a71-4bb9-8b4d-093df29e05fa",
   "metadata": {},
   "outputs": [
    {
     "name": "stdout",
     "output_type": "stream",
     "text": [
      "auc.png\t\t       config.json  fold0  fold2     ROC.png\n",
      "balanced_accuracy.png  f1.png\t    fold1  loss.png  slides.csv\n"
     ]
    }
   ],
   "source": [
    "# Training output\n",
    "! ls ./kfold_tcga_IDH/train_tcga_IDH/2025-03-23_17-07-54"
   ]
  },
  {
   "cell_type": "markdown",
   "id": "30b2c0ed-1c0a-4c1c-b1a8-40529edc4389",
   "metadata": {},
   "source": [
    "# Infer on Internal Test set (TCGA n=25)"
   ]
  },
  {
   "cell_type": "code",
   "execution_count": 11,
   "id": "d6eefbde-a937-4161-98ef-b2c1d4eed1f1",
   "metadata": {},
   "outputs": [
    {
     "name": "stdout",
     "output_type": "stream",
     "text": [
      "Config:\n",
      "{\n",
      "    \"csv\": \"test_tcga_IDH.csv\",\n",
      "    \"results_dir\": \"./kfold_tcga_IDH/train_tcga_IDH/2025-03-23_15-47-29\",\n",
      "    \"target_root\": \"./test_tcga_IDH\",\n",
      "    \"device\": \"cuda:0\",\n",
      "    \"fold\": 1,\n",
      "    \"workers\": 0,\n",
      "    \"seed\": 1,\n",
      "    \"case_bag\": false,\n",
      "    \"no_attn\": false,\n",
      "    \"heatmap\": false,\n",
      "    \"patches\": null,\n",
      "    \"raw\": null,\n",
      "    \"ext\": \"tiff\"\n",
      "}\n",
      "Slide counts:\n",
      " {0: 13, 1: 12}\n",
      "Case counts:\n",
      " {0: 13, 1: 12}\n",
      "loaded ckpt\n",
      " best epoch: -1 threshold: 0.49\n",
      "Predict: 100%|██████████████████████████████████| 25/25 [00:16<00:00,  1.54it/s]\n",
      "log_loss\n",
      "0.48504702484639667\n",
      "\n",
      "roc_auc_score\n",
      "0.8717948717948718\n",
      "\n",
      "balanced_accuracy_score\n",
      "0.8044871794871795\n",
      "\n",
      "f1_score\n",
      "0.8148148148148148\n",
      "\n",
      "confusion_matrix\n",
      "[[ 9  4]\n",
      " [ 1 11]]\n",
      "\n",
      "Results saved to ./test_tcga_IDH\n"
     ]
    }
   ],
   "source": [
    "! python inference.py --csv test_tcga_IDH.csv --target_root ./test_tcga_IDH --fold 1 --results_dir \\\n",
    "    ./kfold_tcga_IDH/train_tcga_IDH/2025-03-23_15-47-29"
   ]
  },
  {
   "cell_type": "markdown",
   "id": "3062d4fc-c694-47ac-a5cb-0b1896784432",
   "metadata": {},
   "source": [
    "# Infer on External Test set (proprietary n=25)"
   ]
  },
  {
   "cell_type": "code",
   "execution_count": 14,
   "id": "35c30dd8-e69f-4586-9b7d-f5e53f610e44",
   "metadata": {},
   "outputs": [
    {
     "name": "stdout",
     "output_type": "stream",
     "text": [
      "Config:\n",
      "{\n",
      "    \"csv\": \"test_sheba_IDH.csv\",\n",
      "    \"results_dir\": \"./kfold_tcga_IDH/train_tcga_IDH/2025-03-23_15-47-29\",\n",
      "    \"target_root\": \"./test_tcga_to_sheba_IDH\",\n",
      "    \"device\": \"cuda:0\",\n",
      "    \"fold\": 1,\n",
      "    \"workers\": 0,\n",
      "    \"seed\": 1,\n",
      "    \"case_bag\": false,\n",
      "    \"no_attn\": false,\n",
      "    \"heatmap\": false,\n",
      "    \"patches\": null,\n",
      "    \"raw\": null,\n",
      "    \"ext\": \"tiff\"\n",
      "}\n",
      "Slide counts:\n",
      " {0: 13, 1: 12}\n",
      "Case counts:\n",
      " {0: 13, 1: 12}\n",
      "loaded ckpt\n",
      " best epoch: -1 threshold: 0.49\n",
      "Predict: 100%|██████████████████████████████████| 25/25 [00:22<00:00,  1.14it/s]\n",
      "log_loss\n",
      "0.45080904343507816\n",
      "\n",
      "roc_auc_score\n",
      "0.9102564102564102\n",
      "\n",
      "balanced_accuracy_score\n",
      "0.8814102564102564\n",
      "\n",
      "f1_score\n",
      "0.88\n",
      "\n",
      "confusion_matrix\n",
      "[[11  2]\n",
      " [ 1 11]]\n",
      "\n",
      "Results saved to ./test_tcga_to_sheba_IDH\n"
     ]
    }
   ],
   "source": [
    "! python inference.py --csv test_proprietary_IDH.csv --target_root ./test_tcga_to_proprietary_IDH --fold 1 --results_dir \\\n",
    "    ./kfold_tcga_IDH/train_tcga_IDH/2025-03-23_15-47-29"
   ]
  },
  {
   "cell_type": "code",
   "execution_count": 15,
   "id": "030ba7ab-1541-4c3c-82a5-2591531908b7",
   "metadata": {},
   "outputs": [
    {
     "name": "stdout",
     "output_type": "stream",
     "text": [
      "attention_scores.npy  predictions.csv  slides.csv\n"
     ]
    }
   ],
   "source": [
    "# Inference output\n",
    "! ls ./test_tcga_to_proprietary_IDH"
   ]
  }
 ],
 "metadata": {
  "kernelspec": {
   "display_name": "Python 3 (ipykernel)",
   "language": "python",
   "name": "python3"
  },
  "language_info": {
   "codemirror_mode": {
    "name": "ipython",
    "version": 3
   },
   "file_extension": ".py",
   "mimetype": "text/x-python",
   "name": "python",
   "nbconvert_exporter": "python",
   "pygments_lexer": "ipython3",
   "version": "3.10.16"
  }
 },
 "nbformat": 4,
 "nbformat_minor": 5
}
